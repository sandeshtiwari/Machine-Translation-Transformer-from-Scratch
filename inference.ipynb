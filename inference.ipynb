{
 "cells": [
  {
   "cell_type": "code",
   "execution_count": 1,
   "metadata": {},
   "outputs": [
    {
     "name": "stdout",
     "output_type": "stream",
     "text": [
      "Using device: cuda\n",
      "    SOURCE: --f=c:\\Users\\sande\\AppData\\Roaming\\jupyter\\runtime\\kernel-v2-15560i6KSZvqHgZOO.json\n",
      " PREDICTED: ...  , le         ,  , le  , le  , le  .  "
     ]
    }
   ],
   "source": [
    "from pathlib import Path\n",
    "import torch\n",
    "import torch.nn as nn\n",
    "from config import get_config, get_weights_file_path\n",
    "from train import get_model, get_ds, run_validation\n",
    "from translate import translate"
   ]
  },
  {
   "cell_type": "code",
   "execution_count": 2,
   "metadata": {},
   "outputs": [
    {
     "name": "stdout",
     "output_type": "stream",
     "text": [
      "Using device: cuda\n",
      "Max lenght of source sentence: 309\n",
      "Max lenght of target sentence: 274\n"
     ]
    },
    {
     "data": {
      "text/plain": [
       "<All keys matched successfully>"
      ]
     },
     "execution_count": 2,
     "metadata": {},
     "output_type": "execute_result"
    }
   ],
   "source": [
    "# Device\n",
    "device = torch.device(\"cuda\" if torch.cuda.is_available() else \"cpu\")\n",
    "print(f\"Using device: {device}\")\n",
    "config = get_config()\n",
    "train_dataloader, val_dataloader, tokenizer_src, tokenizer_tgt = get_ds(config)\n",
    "model = get_model(config, tokenizer_src.get_vocab_size(), tokenizer_tgt.get_vocab_size()).to(device)\n",
    "\n",
    "# Load pretrained weights\n",
    "model_filename = get_weights_file_path(config, f\"19\")\n",
    "state = torch.load(model_filename)\n",
    "model.load_state_dict(state['model_state_dict'])"
   ]
  },
  {
   "cell_type": "code",
   "execution_count": 3,
   "metadata": {},
   "outputs": [
    {
     "name": "stdout",
     "output_type": "stream",
     "text": [
      "................................................................................\n",
      "SOURCE: 'Not I, not on any account!' said the venomous gentleman.\n",
      "TARGET: — Io, poi, in nessun caso — disse il signore velenoso.\n",
      "PREDICTED: — Io , per nulla affatto — disse il signore velenoso .\n",
      "................................................................................\n",
      "SOURCE: As his sister, I might accompany him--not as his wife: I will tell him so.\"\n",
      "TARGET: \"Gli dirò che lo accompagnerò come sorella, ma non come moglie.\n",
      "PREDICTED: \" Gli dirò che lo accompagnerò come sorella , ma non come moglie .\n",
      "................................................................................\n",
      "SOURCE: 'I do not do anything,' said Anna, blushing at these insistent questions.\n",
      "TARGET: — Non faccio in nessun modo — rispose Anna, arrossendo per quelle domande insistenti.\n",
      "PREDICTED: — Non faccio in nessun modo — disse Anna , arrossendo per questi domande .\n",
      "................................................................................\n",
      "SOURCE: He held out his hand, laughing.\n",
      "TARGET: Mi stese la mano, ridendo.\n",
      "PREDICTED: Egli stese la mano , ridendo .\n",
      "................................................................................\n",
      "SOURCE: 'And you are not afraid?'\n",
      "TARGET: — E non hai paura?\n",
      "PREDICTED: — E non hai paura ?\n",
      "................................................................................\n",
      "SOURCE: Matthew blew some invisible speck off the shirt which he held ready gathered up like a horse's collar, and with evident pleasure invested with it his master's carefully tended body.\n",
      "TARGET: Matvej teneva in mano, soffiandovi sopra come a togliere qualcosa di invisibile, la camicia disposta a collare, e con evidente soddisfazione ne circondò il corpo ben curato del padrone.\n",
      "PREDICTED: Matvej teneva in mano , sopra come a togliere qualcosa di invisibile , cominciò a collare , e con evidente soddisfazione ne circondò il corpo ben curato del padrone .\n",
      "................................................................................\n",
      "SOURCE: It is more like a stage village than one built of bricks and mortar.\n",
      "TARGET: Sembra più un villaggio da palcoscenico che una costruzione di mattoni e di calce.\n",
      "PREDICTED: Sembra più un villaggio da palcoscenico che una costruzione di mattoni e di calce .\n",
      "................................................................................\n",
      "SOURCE: He felt that everybody looked at him with questioning surprise without understanding him, expecting something from him; and especially he was aware of the insecurity and artificiality of his relation to his wife.\n",
      "TARGET: Sentiva che tutti guardavano a lui con interrogativo stupore, che non lo capivano e che si aspettavano qualcosa da lui. Sentiva inoltre l’instabilità e, in modo particolare, la falsità dei suoi rapporti con la moglie.\n",
      "PREDICTED: Sentiva che tutti guardavano a lui con interrogativo stupore ; che non lo capivano e che , in un modo misterioso , gli era accaduto ; ed egli sapeva bene tutta la moglie di lui .\n",
      "................................................................................\n",
      "SOURCE: 'Yes, yes,' he said, 'very likely you are right. But I am glad you are in good spirits and go bear-hunting and work, and are full of enthusiasms, because Shcherbatsky told me he met you and you were down in the mouth, and kept talking about death...'\n",
      "TARGET: — Già, già — diceva. — È molto probabile che tu abbia ragione — disse. — Ma io sono felice che tu sia di buon umore; vai a caccia di orsi e lavori, e sei tutto preso dal lavoro. E invece Šcerbackij mi diceva d’averti incontrato, che eri in non so quale stato d’abbattimento, che parlavi sempre di morte.\n",
      "PREDICTED: — Sì , sì — disse — tu abbia ragione , io ti ho ragione ; ma sono contento di essere felice e di caccia a caccia . E tu mi fai sempre bene a caccia , perché mi ha detto d ’ averti trovato un tratto , e eri in attesa del marito , ti diceva di parlare .\n",
      "................................................................................\n",
      "SOURCE: \"No oil,\" said George, with a significant look; and Harris and I agreed.\n",
      "TARGET: — Niente petrolio — disse Giorgio, con uno sguardo espressivo; e Harris e io approvammo.\n",
      "PREDICTED: — Niente petrolio — disse Giorgio , con un movimento espressivo ; e Harris e io approvammo .\n"
     ]
    }
   ],
   "source": [
    "run_validation(model, val_dataloader, tokenizer_src, tokenizer_tgt, config['seq_len'], device, lambda msg: print(msg), 0, None, num_examples=10)"
   ]
  },
  {
   "cell_type": "code",
   "execution_count": 5,
   "metadata": {},
   "outputs": [
    {
     "name": "stdout",
     "output_type": "stream",
     "text": [
      "Using device: cuda\n",
      "    SOURCE: I love my mom.\n",
      " PREDICTED: Io amo l ' amore  .  "
     ]
    }
   ],
   "source": [
    "t = translate(\"I love my mom.\")"
   ]
  },
  {
   "cell_type": "code",
   "execution_count": null,
   "metadata": {},
   "outputs": [],
   "source": []
  }
 ],
 "metadata": {
  "kernelspec": {
   "display_name": "pytorch",
   "language": "python",
   "name": "python3"
  },
  "language_info": {
   "codemirror_mode": {
    "name": "ipython",
    "version": 3
   },
   "file_extension": ".py",
   "mimetype": "text/x-python",
   "name": "python",
   "nbconvert_exporter": "python",
   "pygments_lexer": "ipython3",
   "version": "3.12.4"
  }
 },
 "nbformat": 4,
 "nbformat_minor": 2
}
